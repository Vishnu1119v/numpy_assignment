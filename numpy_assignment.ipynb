{
 "cells": [
  {
   "cell_type": "code",
   "execution_count": 1,
   "id": "c937b772",
   "metadata": {},
   "outputs": [],
   "source": [
    "import numpy as np"
   ]
  },
  {
   "cell_type": "markdown",
   "id": "c3ed2e23",
   "metadata": {},
   "source": [
    "# 1.Create a null vector of size 10 but the fifth value which is 1.\n"
   ]
  },
  {
   "cell_type": "code",
   "execution_count": 3,
   "id": "d721144e",
   "metadata": {},
   "outputs": [
    {
     "data": {
      "text/plain": [
       "array([0., 0., 0., 0., 1., 0., 0., 0., 0., 0.])"
      ]
     },
     "execution_count": 3,
     "metadata": {},
     "output_type": "execute_result"
    }
   ],
   "source": [
    "x=np.zeros(10)\n",
    "x[4]=1\n",
    "x"
   ]
  },
  {
   "cell_type": "markdown",
   "id": "7c75ccb7",
   "metadata": {},
   "source": [
    "# 2.Create a vector with values ranging from 10 to 49."
   ]
  },
  {
   "cell_type": "code",
   "execution_count": 4,
   "id": "a2c79818",
   "metadata": {},
   "outputs": [
    {
     "data": {
      "text/plain": [
       "array([10, 11, 12, 13, 14, 15, 16, 17, 18, 19, 20, 21, 22, 23, 24, 25, 26,\n",
       "       27, 28, 29, 30, 31, 32, 33, 34, 35, 36, 37, 38, 39, 40, 41, 42, 43,\n",
       "       44, 45, 46, 47, 48, 49])"
      ]
     },
     "execution_count": 4,
     "metadata": {},
     "output_type": "execute_result"
    }
   ],
   "source": [
    "vect=np.arange(10,50)\n",
    "vect"
   ]
  },
  {
   "cell_type": "markdown",
   "id": "455d593f",
   "metadata": {},
   "source": [
    "# 3.Create a 3x3 matrix with values ranging from 0 to 8"
   ]
  },
  {
   "cell_type": "code",
   "execution_count": 5,
   "id": "06dcc1ab",
   "metadata": {},
   "outputs": [
    {
     "data": {
      "text/plain": [
       "array([[0, 1, 2],\n",
       "       [3, 4, 5],\n",
       "       [6, 7, 8]])"
      ]
     },
     "execution_count": 5,
     "metadata": {},
     "output_type": "execute_result"
    }
   ],
   "source": [
    "matrix=np.arange(0,9).reshape(3,3)\n",
    "matrix"
   ]
  },
  {
   "cell_type": "markdown",
   "id": "fc6a3862",
   "metadata": {},
   "source": [
    "# 4.Find indices of non-zero elements from [1,2,0,0,4,0]"
   ]
  },
  {
   "cell_type": "code",
   "execution_count": 6,
   "id": "66c50231",
   "metadata": {},
   "outputs": [
    {
     "data": {
      "text/plain": [
       "(array([0, 1, 4], dtype=int64),)"
      ]
     },
     "execution_count": 6,
     "metadata": {},
     "output_type": "execute_result"
    }
   ],
   "source": [
    "arr1=np.nonzero([1,2,0,0,4,0])\n",
    "arr1"
   ]
  },
  {
   "cell_type": "markdown",
   "id": "fc6351e3",
   "metadata": {},
   "source": [
    "# 5.Create a 10x10 array with random values and find the minimum and maximum values."
   ]
  },
  {
   "cell_type": "code",
   "execution_count": 10,
   "id": "3d9e46b0",
   "metadata": {},
   "outputs": [
    {
     "data": {
      "text/plain": [
       "array([[0.41056875, 0.30537746, 0.96067162, 0.92351696, 0.87842799,\n",
       "        0.1829454 , 0.30647516, 0.1813186 , 0.99558713, 0.42329072],\n",
       "       [0.51178523, 0.56489127, 0.08083155, 0.8813371 , 0.64413007,\n",
       "        0.80482386, 0.54471587, 0.72120501, 0.06411664, 0.9269768 ],\n",
       "       [0.67329053, 0.51986609, 0.12067697, 0.16913379, 0.89833651,\n",
       "        0.12968137, 0.82096206, 0.37130323, 0.54248751, 0.33494595],\n",
       "       [0.02860403, 0.17516793, 0.54508591, 0.68211509, 0.20766327,\n",
       "        0.95548239, 0.20773335, 0.84997174, 0.36749984, 0.9670311 ],\n",
       "       [0.22244812, 0.90253948, 0.38047545, 0.19205639, 0.46184821,\n",
       "        0.91011534, 0.84175444, 0.6860498 , 0.96477558, 0.24653864],\n",
       "       [0.29269085, 0.19417668, 0.46901841, 0.39581693, 0.38743266,\n",
       "        0.7198882 , 0.18625893, 0.25304492, 0.41763257, 0.93323633],\n",
       "       [0.92673953, 0.45887541, 0.70967782, 0.68024104, 0.01209907,\n",
       "        0.87465836, 0.68766901, 0.64470195, 0.89424075, 0.80704127],\n",
       "       [0.63516581, 0.57492763, 0.60682015, 0.54114924, 0.1440471 ,\n",
       "        0.82534247, 0.2723462 , 0.53554703, 0.67962437, 0.95375123],\n",
       "       [0.16584162, 0.30075796, 0.87354387, 0.48162301, 0.82252902,\n",
       "        0.07578696, 0.46981593, 0.72513422, 0.57712434, 0.8500114 ],\n",
       "       [0.99262922, 0.11512698, 0.25494883, 0.26274889, 0.97323925,\n",
       "        0.36031067, 0.25758262, 0.23318017, 0.73705776, 0.13746789]])"
      ]
     },
     "execution_count": 10,
     "metadata": {},
     "output_type": "execute_result"
    }
   ],
   "source": [
    "arr2=np.random.rand(10,10)\n",
    "arr2"
   ]
  },
  {
   "cell_type": "code",
   "execution_count": 11,
   "id": "dc35d4d8",
   "metadata": {},
   "outputs": [
    {
     "name": "stdout",
     "output_type": "stream",
     "text": [
      "0.012099072438387481 0.9955871296301451\n"
     ]
    }
   ],
   "source": [
    "arr2_min=arr2.min()\n",
    "arr2_max=arr2.max()\n",
    "print(arr2_min,arr2_max)"
   ]
  },
  {
   "cell_type": "markdown",
   "id": "a2d45c71",
   "metadata": {},
   "source": [
    "# 6. Create a random vector of size 30 and find the mean value.\n"
   ]
  },
  {
   "cell_type": "code",
   "execution_count": 12,
   "id": "d49fd014",
   "metadata": {},
   "outputs": [
    {
     "data": {
      "text/plain": [
       "0.4901405991347628"
      ]
     },
     "execution_count": 12,
     "metadata": {},
     "output_type": "execute_result"
    }
   ],
   "source": [
    "vect2=np.random.random(30)\n",
    "mean=vect2.mean()\n",
    "mean"
   ]
  },
  {
   "cell_type": "code",
   "execution_count": null,
   "id": "aeced3cc",
   "metadata": {},
   "outputs": [],
   "source": []
  }
 ],
 "metadata": {
  "kernelspec": {
   "display_name": "Python 3 (ipykernel)",
   "language": "python",
   "name": "python3"
  },
  "language_info": {
   "codemirror_mode": {
    "name": "ipython",
    "version": 3
   },
   "file_extension": ".py",
   "mimetype": "text/x-python",
   "name": "python",
   "nbconvert_exporter": "python",
   "pygments_lexer": "ipython3",
   "version": "3.9.12"
  }
 },
 "nbformat": 4,
 "nbformat_minor": 5
}
